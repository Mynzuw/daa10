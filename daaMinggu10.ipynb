{
 "cells": [
  {
   "cell_type": "code",
   "execution_count": 1,
   "id": "c96505e5",
   "metadata": {},
   "outputs": [],
   "source": [
    "import pulp"
   ]
  },
  {
   "cell_type": "code",
   "execution_count": 2,
   "id": "55f2dc17",
   "metadata": {},
   "outputs": [],
   "source": [
    "# Instantiate our problem class\n",
    "model = pulp.LpProblem(\"ProfitMaximisingProblom\", pulp.LpMaximize)"
   ]
  },
  {
   "cell_type": "code",
   "execution_count": 3,
   "id": "26321eb2",
   "metadata": {},
   "outputs": [],
   "source": [
    "A = pulp.LpVariable('A', lowBound=0, cat='Integer')\n",
    "B = pulp.LpVariable('B', lowBound=0, cat='Integer')"
   ]
  },
  {
   "cell_type": "code",
   "execution_count": 4,
   "id": "b8ae681c",
   "metadata": {},
   "outputs": [],
   "source": [
    "# Objective function\n",
    "model += 5000 * A + 2500 * B, \"Profit\"\n",
    "# Constraints\n",
    "model += 3 * A + 2 * B <= 20\n",
    "model += 4 * A + 3 * B <= 30\n",
    "model += 4 * A + 3 * B <= 44"
   ]
  },
  {
   "cell_type": "code",
   "execution_count": 5,
   "id": "f37316cc",
   "metadata": {},
   "outputs": [
    {
     "data": {
      "text/plain": [
       "'Optimal'"
      ]
     },
     "execution_count": 5,
     "metadata": {},
     "output_type": "execute_result"
    }
   ],
   "source": [
    "# Solve our problem\n",
    "model.solve()\n",
    "pulp.LpStatus[model.status]"
   ]
  },
  {
   "cell_type": "code",
   "execution_count": 6,
   "id": "445dafd1",
   "metadata": {},
   "outputs": [
    {
     "name": "stdout",
     "output_type": "stream",
     "text": [
      "6.0\n",
      "1.0\n"
     ]
    }
   ],
   "source": [
    "# Print our decision variable values\n",
    "print (A.varValue)\n",
    "print (B.varValue)"
   ]
  },
  {
   "cell_type": "code",
   "execution_count": 7,
   "id": "2d634498",
   "metadata": {},
   "outputs": [
    {
     "name": "stdout",
     "output_type": "stream",
     "text": [
      "32500.0\n"
     ]
    }
   ],
   "source": [
    "# Print our objective function value\n",
    "print (pulp.value(model.objective))"
   ]
  },
  {
   "cell_type": "code",
   "execution_count": 8,
   "id": "d530e298",
   "metadata": {},
   "outputs": [
    {
     "name": "stdout",
     "output_type": "stream",
     "text": [
      "7.0\n",
      "2.0\n",
      "40000.0\n"
     ]
    },
    {
     "name": "stderr",
     "output_type": "stream",
     "text": [
      "C:\\Users\\adham\\anaconda3\\lib\\site-packages\\pulp\\pulp.py:1530: UserWarning: Overwriting previously set objective.\n",
      "  warnings.warn(\"Overwriting previously set objective.\")\n"
     ]
    }
   ],
   "source": [
    "# Latihan 1\n",
    "X = pulp.LpVariable ('X', lowBound= 0, cat='Integer')\n",
    "Y = pulp.LpVariable ('Y', lowBound= 0, cat='Integer')\n",
    "# Objective function \n",
    "model += 5000 * X + 2500 * Y, \"Profit\"\n",
    "\n",
    "# Constraints\n",
    "model += 4 * X + 3 * Y <= 34\n",
    "model += 5 * X + 1 * Y <= 37\n",
    "\n",
    "model.solve()\n",
    "pulp.LpStatus[model.status]\n",
    "\n",
    "print (X.varValue)\n",
    "print (Y.varValue)\n",
    "\n",
    "print (pulp.value(model.objective))"
   ]
  },
  {
   "cell_type": "code",
   "execution_count": 12,
   "id": "be7f1c54",
   "metadata": {},
   "outputs": [
    {
     "name": "stdout",
     "output_type": "stream",
     "text": [
      "1000.0\n",
      "2000.0\n",
      "14000.0\n"
     ]
    }
   ],
   "source": [
    "#Latihan 2\n",
    "model = pulp.LpProblem(\"ProfitMaximisingProblem\", pulp.LpMaximize)\n",
    "X = pulp.LpVariable('X', lowBound=0, cat='Integer')\n",
    "Y = pulp.LpVariable('Y', lowBound=0, cat='Integer')\n",
    "\n",
    "model += 3 * X + 4 * Y == 11000\n",
    "model += 1 * X + 7 * Y == 15000\n",
    "model += 2 * X + 6 * Y, 'Hasil'\n",
    "\n",
    "model.solve()\n",
    "pulp.LpStatus[model.status]\n",
    "\n",
    "print (X.varValue)\n",
    "print (Y.varValue)\n",
    "print (pulp.value(model.objective))"
   ]
  },
  {
   "cell_type": "code",
   "execution_count": 13,
   "id": "47f9aaac",
   "metadata": {},
   "outputs": [],
   "source": [
    "import numpy as np\n",
    "from scipy.optimize import linprog"
   ]
  },
  {
   "cell_type": "code",
   "execution_count": 14,
   "id": "61bb8d63",
   "metadata": {},
   "outputs": [],
   "source": [
    "A = np.array([[1, 0], [2, 3], [1, 1], [-1, 0], [0, -1]])\n",
    "b = np.array([16, 19, 8, 0, 0])\n",
    "c = np.array([-5, -7])\n",
    "res = linprog(c, A_ub=A, b_ub=b)"
   ]
  },
  {
   "cell_type": "code",
   "execution_count": 15,
   "id": "41dc1765",
   "metadata": {},
   "outputs": [
    {
     "name": "stdout",
     "output_type": "stream",
     "text": [
      "Optimal value: 46.0 \n",
      "x values: [5. 3.] \n",
      "Number of iterations performed: 5 \n",
      "Status: Optimization terminated successfully.\n"
     ]
    }
   ],
   "source": [
    "#Print results\n",
    "print('Optimal value:', round(res.fun*-1, ndigits=2), \n",
    "      '\\nx values:', res.x,\n",
    "      '\\nNumber of iterations performed:', res.nit,\n",
    "      '\\nStatus:', res.message)"
   ]
  },
  {
   "cell_type": "code",
   "execution_count": 16,
   "id": "7dcdd577",
   "metadata": {},
   "outputs": [
    {
     "name": "stdout",
     "output_type": "stream",
     "text": [
      "Optimal value: 11.67 \n",
      "x values: [1.26448491e-11 2.33333333e+00] \n",
      "Number of iterations performed: 5 \n",
      "Status: Optimization terminated successfully.\n"
     ]
    }
   ],
   "source": [
    "#Latihan 1\n",
    "A = np.array([[4, 12], [2, 1], [-1, 0], [0, -1]])\n",
    "b = np.array([28, 21, 0, 0])\n",
    "c = np.array([-1, -5])\n",
    "res = linprog(c, A_ub=A, b_ub=b)\n",
    "\n",
    "print('Optimal value:', round(res.fun*-1, ndigits=2), \n",
    "      '\\nx values:', res.x,\n",
    "      '\\nNumber of iterations performed:', res.nit,\n",
    "      '\\nStatus:', res.message)"
   ]
  },
  {
   "cell_type": "code",
   "execution_count": 17,
   "id": "8ecf4486",
   "metadata": {},
   "outputs": [
    {
     "name": "stdout",
     "output_type": "stream",
     "text": [
      "Optimal value: 16.0 \n",
      "x values: [11.28137676  4.71862324] \n",
      "Number of iterations performed: 5 \n",
      "Status: Optimization terminated successfully.\n"
     ]
    }
   ],
   "source": [
    "#Latihan 2\n",
    "A = np.array([[3, 4], [1, 1], [-1, 0], [0, -1]])\n",
    "b = np.array([55, 16, 0, 0])\n",
    "c = np.array([-1, -1])\n",
    "res = linprog(c, A_ub=A, b_ub=b)\n",
    "\n",
    "print('Optimal value:', round(res.fun*-1, ndigits=2), \n",
    "      '\\nx values:', res.x,\n",
    "      '\\nNumber of iterations performed:', res.nit,\n",
    "      '\\nStatus:', res.message)"
   ]
  },
  {
   "cell_type": "code",
   "execution_count": null,
   "id": "07f97c8e",
   "metadata": {},
   "outputs": [],
   "source": []
  }
 ],
 "metadata": {
  "kernelspec": {
   "display_name": "Python 3 (ipykernel)",
   "language": "python",
   "name": "python3"
  },
  "language_info": {
   "codemirror_mode": {
    "name": "ipython",
    "version": 3
   },
   "file_extension": ".py",
   "mimetype": "text/x-python",
   "name": "python",
   "nbconvert_exporter": "python",
   "pygments_lexer": "ipython3",
   "version": "3.9.12"
  }
 },
 "nbformat": 4,
 "nbformat_minor": 5
}
